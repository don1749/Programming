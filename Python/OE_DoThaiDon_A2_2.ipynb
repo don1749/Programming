{
 "cells": [
  {
   "cell_type": "code",
   "execution_count": 5,
   "metadata": {},
   "outputs": [],
   "source": [
    "def mod_binary(g,k,n):\n",
    "    # out: g^k mod n\n",
    "    bk = bin(k)[2:]\n",
    "    y = 1\n",
    "    for i in bk:\n",
    "        y = y * y % n\n",
    "        if i == '1':\n",
    "            y = y * g % n\n",
    "    return y"
   ]
  },
  {
   "cell_type": "code",
   "execution_count": 6,
   "metadata": {},
   "outputs": [],
   "source": [
    "def euclid(a, b):\n",
    "    # use extended euclid\n",
    "    # out: gcd(a,b)\n",
    "    x0, x1 = 1, 0\n",
    "    y0, y1 = 0, 1\n",
    "    while b!=0:\n",
    "        q, r = divmod(a, b)\n",
    "        x0, x1 = x1, x0 - q * x1\n",
    "        y0, y1 = y1, y0 - q * y1\n",
    "        a, b = b, r\n",
    "    return a "
   ]
  },
  {
   "cell_type": "code",
   "execution_count": 7,
   "metadata": {},
   "outputs": [],
   "source": [
    "def fermat_test(n, a):\n",
    "    if mod_binary(a, n-1, n) != 1:\n",
    "        return False\n",
    "    return True"
   ]
  },
  {
   "cell_type": "code",
   "execution_count": 13,
   "metadata": {},
   "outputs": [],
   "source": [
    "import sympy\n",
    "\n",
    "def fermat_primegen(iv, k):\n",
    "    # generate first k primes\n",
    "    primes = [2]\n",
    "    cur = 3\n",
    "    while len(primes) < k:\n",
    "        if sympy.isprime(cur):\n",
    "            primes.append(cur)\n",
    "        else:\n",
    "            cur += 1\n",
    "    \n",
    "    cur = 0\n",
    "    flag = True\n",
    "    for a in primes:\n",
    "        if euclid(iv, a):\n",
    "            cur +=1\n",
    "            if fermat_test(iv, a) == False:\n",
    "                flag = False\n",
    "                break\n",
    "        if cur == k:\n",
    "                break\n",
    "    if flag == True:\n",
    "        return iv\n",
    "    else:\n",
    "        return fermat_primegen(iv+1, k)"
   ]
  },
  {
   "cell_type": "code",
   "execution_count": 17,
   "metadata": {},
   "outputs": [],
   "source": [
    "primes = [2]\n",
    "cur = 3\n",
    "while len(primes) < 5:\n",
    "    if sympy.isprime(cur):\n",
    "        primes.append(cur)\n",
    "    else:\n",
    "        cur += 1"
   ]
  },
  {
   "cell_type": "code",
   "execution_count": 14,
   "metadata": {},
   "outputs": [],
   "source": [
    "def prime_arr_gen(bit_size, ret_size, f):\n",
    "    #     bit_size : 生成素数のビット数\n",
    "    #     ret_size : 生成素数の個数\n",
    "    #     f : 判定回数\n",
    "    cur = 2**(bit_size-1)\n",
    "    ret = []\n",
    "    for i in range(ret_size):\n",
    "        p = fermat_primegen(cur, f)\n",
    "        cur = p+1\n",
    "        ret.append(p)\n",
    "        if (len(str(bin(p)[2:])) > bit_size):\n",
    "            return ret\n",
    "    return ret"
   ]
  },
  {
   "cell_type": "code",
   "execution_count": 15,
   "metadata": {},
   "outputs": [],
   "source": [
    "def count_prime(arr):\n",
    "    cnt = 0 \n",
    "    for x in arr:       \n",
    "        if sympy.isprime(x) == True:\n",
    "            cnt +=1 \n",
    "    return cnt"
   ]
  },
  {
   "cell_type": "code",
   "execution_count": 16,
   "metadata": {},
   "outputs": [
    {
     "name": "stderr",
     "output_type": "stream",
     "text": [
      "<ipython-input-16-3f8f60711012>:7: TqdmDeprecationWarning: This function will be removed in tqdm==5.0.0\n",
      "Please use `tqdm.notebook.tqdm` instead of `tqdm.tqdm_notebook`\n",
      "  for i in tqdm(range(1, 6)):\n"
     ]
    },
    {
     "data": {
      "application/vnd.jupyter.widget-view+json": {
       "model_id": "5abb8757db2f423da23b8f9d2f1d0d23",
       "version_major": 2,
       "version_minor": 0
      },
      "text/plain": [
       "HBox(children=(HTML(value=''), FloatProgress(value=0.0, max=5.0), HTML(value='')))"
      ]
     },
     "metadata": {},
     "output_type": "display_data"
    },
    {
     "name": "stdout",
     "output_type": "stream",
     "text": [
      "\n"
     ]
    },
    {
     "data": {
      "application/vnd.jupyter.widget-view+json": {
       "model_id": "8f9a42702f49467fb176294c695f5414",
       "version_major": 2,
       "version_minor": 0
      },
      "text/plain": [
       "HBox(children=(HTML(value=''), FloatProgress(value=0.0, max=5.0), HTML(value='')))"
      ]
     },
     "metadata": {},
     "output_type": "display_data"
    },
    {
     "name": "stdout",
     "output_type": "stream",
     "text": [
      "\n"
     ]
    },
    {
     "data": {
      "application/vnd.jupyter.widget-view+json": {
       "model_id": "306d7309d8dd421e8e87930bcbe6cbcf",
       "version_major": 2,
       "version_minor": 0
      },
      "text/plain": [
       "HBox(children=(HTML(value=''), FloatProgress(value=0.0, max=5.0), HTML(value='')))"
      ]
     },
     "metadata": {},
     "output_type": "display_data"
    },
    {
     "name": "stdout",
     "output_type": "stream",
     "text": [
      "\n"
     ]
    },
    {
     "data": {
      "application/vnd.jupyter.widget-view+json": {
       "model_id": "81cfe01ba2ef455e8c29c52b0d874a82",
       "version_major": 2,
       "version_minor": 0
      },
      "text/plain": [
       "HBox(children=(HTML(value=''), FloatProgress(value=0.0, max=5.0), HTML(value='')))"
      ]
     },
     "metadata": {},
     "output_type": "display_data"
    },
    {
     "name": "stdout",
     "output_type": "stream",
     "text": [
      "\n",
      "{128: [20, 20, 20, 20, 20], 256: [20, 20, 20, 20, 20], 512: [20, 20, 20, 20, 20], 756: [20, 20, 20, 20, 20]}\n"
     ]
    }
   ],
   "source": [
    "from tqdm import tqdm_notebook as tqdm\n",
    "\n",
    "bit_size = [128, 256, 512, 756]\n",
    "counts = {}\n",
    "for x in bit_size:\n",
    "    counts[x] = []\n",
    "    for i in tqdm(range(1, 6)):\n",
    "        primes = prime_arr_gen(x, 20, i)\n",
    "        counts[x].append(count_prime(primes))\n",
    "print(counts)"
   ]
  },
  {
   "cell_type": "code",
   "execution_count": null,
   "metadata": {},
   "outputs": [],
   "source": []
  }
 ],
 "metadata": {
  "kernelspec": {
   "display_name": "Python 3",
   "language": "python",
   "name": "python3"
  },
  "language_info": {
   "codemirror_mode": {
    "name": "ipython",
    "version": 3
   },
   "file_extension": ".py",
   "mimetype": "text/x-python",
   "name": "python",
   "nbconvert_exporter": "python",
   "pygments_lexer": "ipython3",
   "version": "3.8.5"
  }
 },
 "nbformat": 4,
 "nbformat_minor": 4
}
