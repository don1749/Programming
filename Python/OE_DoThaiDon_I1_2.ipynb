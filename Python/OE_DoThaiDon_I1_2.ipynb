{
 "cells": [
  {
   "cell_type": "code",
   "execution_count": 194,
   "metadata": {},
   "outputs": [],
   "source": [
    "def ex_euclid(a,b):\n",
    "    A = [a, b]\n",
    "    X = [1, 0]\n",
    "    Y = [0, 1]\n",
    "    i = 1\n",
    "    while A[i] != 0:\n",
    "        qi = A[i-1]  // A[i]\n",
    "        A.append(A[i-1] % A[i])\n",
    "        X.append(X[i-1] - qi*X[i])\n",
    "        Y.append(Y[i-1] - qi*Y[i])\n",
    "        i += 1\n",
    "    d = A[i-1]\n",
    "    x = X[i-1]\n",
    "    y = Y[i-1]\n",
    "    if d == 1:\n",
    "        return d,x,y,i-1\n",
    "    else:\n",
    "        return \"解がない\""
   ]
  },
  {
   "cell_type": "code",
   "execution_count": 195,
   "metadata": {},
   "outputs": [],
   "source": [
    "def euclid(a, b):\n",
    "    while b != 0:\n",
    "        a, b = b, a % b\n",
    "    return a, i"
   ]
  },
  {
   "cell_type": "code",
   "execution_count": 196,
   "metadata": {},
   "outputs": [],
   "source": [
    "def solve(a, n):\n",
    "    if euclid(a, n)[0] > 1:\n",
    "        return \"解がない\"\n",
    "    print (ex_euclid(a,n)[3])\n",
    "    return ex_euclid(a,n)[1]%n"
   ]
  },
  {
   "cell_type": "code",
   "execution_count": 197,
   "metadata": {},
   "outputs": [
    {
     "name": "stdout",
     "output_type": "stream",
     "text": [
      "3\n"
     ]
    },
    {
     "data": {
      "text/plain": [
       "89884656743115795385419578396893726598930148024378005853222211842098590108079259684473916897932462770751090282742990251823220274099619550025396438501677908319614776568119538254367879957411287431287503712651038723856294775478968889212221213308667363814649693834354602803025135405421453846466009564097233813504"
      ]
     },
     "execution_count": 197,
     "metadata": {},
     "output_type": "execute_result"
    }
   ],
   "source": [
    "p1 = 179769313486231590770839156793787453197860296048756011706444423684197180216158519368947833795864925541502180565485980503646440548199239100050792877003355816639229553136239076508735759914822574862575007425302077447712589550957937778424442426617334727629299387668709205606050270810842907692932019128194467627007\n",
    "g1 = 2\n",
    "solve(g1, p1)"
   ]
  },
  {
   "cell_type": "code",
   "execution_count": 198,
   "metadata": {},
   "outputs": [
    {
     "name": "stdout",
     "output_type": "stream",
     "text": [
      "582\n"
     ]
    },
    {
     "data": {
      "text/plain": [
       "425127162187458689120360369757240482741331625433688821728299998917774853749733155381124391363795849219476435789114067273252365926759490825789190121550409709915159497507110494116687856399843763196929969567552979923498349296985572208954011774580496121214273397570023586226599870695153138025807543491792840124"
      ]
     },
     "execution_count": 198,
     "metadata": {},
     "output_type": "execute_result"
    }
   ],
   "source": [
    "p2 = 2808895523222368605827039360607851146278089029597354019897345018089573059460952548948569958162617750330001779372990521213418590137725259726450741103741783193402623334763523207442222181269470220616454421126328215138096104411600982523029892352200425580677351729446660909999175717788745567263052442650378502727\n",
    "g2 = 223430576417890487422269426906195161767832880653423848539445139969853987821517138552998518623144538193261803875017458569632252569251697589997293355454814586334598230187649190478289169251991326275117439813322377796421797524336508587544519786674834759369565440874709536115867164313812247715559337328470627806180\n",
    "solve(g2, p2)"
   ]
  },
  {
   "cell_type": "code",
   "execution_count": 199,
   "metadata": {},
   "outputs": [
    {
     "name": "stdout",
     "output_type": "stream",
     "text": [
      "3\n"
     ]
    },
    {
     "data": {
      "text/plain": [
       "365375409332725729761980857249820416531042172161"
      ]
     },
     "execution_count": 199,
     "metadata": {},
     "output_type": "execute_result"
    }
   ],
   "source": [
    "p4 = 730750818665451459523961714499640833062084344321\n",
    "g4 = 2\n",
    "solve(g4, p4)"
   ]
  },
  {
   "cell_type": "code",
   "execution_count": 200,
   "metadata": {},
   "outputs": [
    {
     "name": "stdout",
     "output_type": "stream",
     "text": [
      "88\n"
     ]
    },
    {
     "data": {
      "text/plain": [
       "45758945461813088977698591258903928240412001139"
      ]
     },
     "execution_count": 200,
     "metadata": {},
     "output_type": "execute_result"
    }
   ],
   "source": [
    "g5 = 630750818665451459523961714499640833062084344321\n",
    "solve(g5, p4)"
   ]
  },
  {
   "cell_type": "code",
   "execution_count": 165,
   "metadata": {},
   "outputs": [
    {
     "name": "stdout",
     "output_type": "stream",
     "text": [
      "7.1e-06[s]\n"
     ]
    }
   ],
   "source": [
    "import time\n",
    "start = time.perf_counter()\n",
    "for i in range(1000):\n",
    "    solve(g1, p1)\n",
    "end = time.perf_counter()\n",
    "print(str(round((end-start)/1000, 8)) + \"[s]\")"
   ]
  },
  {
   "cell_type": "code",
   "execution_count": 166,
   "metadata": {},
   "outputs": [
    {
     "name": "stdout",
     "output_type": "stream",
     "text": [
      "0.0006363[s]\n"
     ]
    }
   ],
   "source": [
    "import time\n",
    "start = time.perf_counter()\n",
    "for i in range(1000):\n",
    "    solve(g2, p2)\n",
    "end = time.perf_counter()\n",
    "print(str(round((end-start)/1000, 8)) + \"[s]\")"
   ]
  },
  {
   "cell_type": "code",
   "execution_count": 167,
   "metadata": {},
   "outputs": [
    {
     "name": "stdout",
     "output_type": "stream",
     "text": [
      "8.31e-06[s]\n"
     ]
    }
   ],
   "source": [
    "import time\n",
    "start = time.perf_counter()\n",
    "for i in range(1000):\n",
    "    solve(g4, p4)\n",
    "end = time.perf_counter()\n",
    "print(str(round((end-start)/1000, 8)) + \"[s]\")"
   ]
  },
  {
   "cell_type": "code",
   "execution_count": 168,
   "metadata": {},
   "outputs": [
    {
     "name": "stdout",
     "output_type": "stream",
     "text": [
      "0.00010436[s]\n"
     ]
    }
   ],
   "source": [
    "import time\n",
    "start = time.perf_counter()\n",
    "for i in range(1000):\n",
    "    solve(g5, p4)\n",
    "end = time.perf_counter()\n",
    "print(str(round((end-start)/1000, 8)) + \"[s]\")"
   ]
  },
  {
   "cell_type": "code",
   "execution_count": null,
   "metadata": {},
   "outputs": [],
   "source": []
  }
 ],
 "metadata": {
  "kernelspec": {
   "display_name": "Python 3",
   "language": "python",
   "name": "python3"
  },
  "language_info": {
   "codemirror_mode": {
    "name": "ipython",
    "version": 3
   },
   "file_extension": ".py",
   "mimetype": "text/x-python",
   "name": "python",
   "nbconvert_exporter": "python",
   "pygments_lexer": "ipython3",
   "version": "3.8.5"
  }
 },
 "nbformat": 4,
 "nbformat_minor": 4
}
