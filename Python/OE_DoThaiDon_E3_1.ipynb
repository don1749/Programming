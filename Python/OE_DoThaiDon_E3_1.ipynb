{
 "cells": [
  {
   "cell_type": "code",
   "execution_count": 32,
   "metadata": {},
   "outputs": [],
   "source": [
    "def ex_euclid(a,b):\n",
    "    x0, x1 = 1, 0\n",
    "    y0, y1 = 0, 1\n",
    "    while b!=0:\n",
    "        q, r = divmod(a, b) # r = a0 % a1, q = (a0 – r)//a1 でも可\n",
    "        x0, x1 = x1, x0 - q * x1\n",
    "        y0, y1 = y1, y0 - q * y1\n",
    "        a, b = b, r\n",
    "    return [a, x0, y0]"
   ]
  },
  {
   "cell_type": "code",
   "execution_count": 71,
   "metadata": {},
   "outputs": [],
   "source": [
    "def mod_binary(g,k,n):\n",
    "    # out: g^k mod n\n",
    "    bk = bin(k)[2:]\n",
    "    y = 1\n",
    "    for i in bk:\n",
    "        y = y * y % n\n",
    "        if i == '1':\n",
    "            y = y * g % n\n",
    "    return y"
   ]
  },
  {
   "cell_type": "code",
   "execution_count": 33,
   "metadata": {},
   "outputs": [],
   "source": [
    "def gcd(a,b):\n",
    "    return ex_euclid(a,b)[0]"
   ]
  },
  {
   "cell_type": "code",
   "execution_count": 50,
   "metadata": {},
   "outputs": [],
   "source": [
    "def lcm(a,b):\n",
    "    return int(a*b/gcd(a,b))"
   ]
  },
  {
   "cell_type": "code",
   "execution_count": 51,
   "metadata": {},
   "outputs": [],
   "source": [
    "def inv(a,n):\n",
    "    return ex_euclid(a,n)[1] % n"
   ]
  },
  {
   "cell_type": "code",
   "execution_count": 52,
   "metadata": {},
   "outputs": [],
   "source": [
    "def rsaSignGenKey(p, q, e):\n",
    "    n  = p*q\n",
    "    lambda_n = lcm(p-1, q-1)\n",
    "    if gcd(e,lambda_n) != 1:\n",
    "        return 0\n",
    "    d = inv(e, lambda_n)\n",
    "    return(n, e, d)"
   ]
  },
  {
   "cell_type": "code",
   "execution_count": 69,
   "metadata": {},
   "outputs": [],
   "source": [
    "import hashlib\n",
    "import binascii\n",
    "def shake128(m, h_size):\n",
    "    mhash = hashlib.shake_128(m.encode()).hexdigest(h_size)\n",
    "    return int(mhash, 16)"
   ]
  },
  {
   "cell_type": "code",
   "execution_count": 76,
   "metadata": {},
   "outputs": [],
   "source": [
    "m=\"Both Gauss and lesser mathematicians may be justified in rejoicing that there is one science, number theory, at any rate, and that their own, whose very remoteness from ordinary human activities should keep it gentle and clean.\""
   ]
  },
  {
   "cell_type": "code",
   "execution_count": 97,
   "metadata": {},
   "outputs": [
    {
     "data": {
      "text/plain": [
       "628139655131474862126266119313631692025404659280350588811056258385987238262720737157797375887533508543370920331317679008074902860190069917211085015852271240042591354919423922692748942740484850218049166171949483790649172202705433131289903526637847920201282298265556060629794844495713270401141347841704342454"
      ]
     },
     "execution_count": 97,
     "metadata": {},
     "output_type": "execute_result"
    }
   ],
   "source": [
    "shake128(m, 127)"
   ]
  },
  {
   "cell_type": "code",
   "execution_count": 77,
   "metadata": {},
   "outputs": [],
   "source": [
    "def rsaSignGen(m, n, d):\n",
    "    mhash = shake128(m, 127)\n",
    "    return mod_binary(mhash, d, n)"
   ]
  },
  {
   "cell_type": "code",
   "execution_count": 88,
   "metadata": {
    "scrolled": true
   },
   "outputs": [],
   "source": [
    "n = 122834028293712296720762660347542146164652093481670201947376324993009557691933003435610085976898758687338316692229094216953583611028600068975461290111594197522486713161058298860890998555271590454234774552183738893956388244959334034615659391123981756945729584040032409298308902656405787758214276110040436127519\n",
    "d = 32401192536282284985293764068015617541088107068689912971046291803608281162104458551688806288958064348844691177528335638653613116641193673091528754858391486447179012634626996326273041718091639197392417588612717700648501308653623794225874395803030857098539375261982836116370926858180336861819322091831749480363\n",
    "e = 576545171"
   ]
  },
  {
   "cell_type": "code",
   "execution_count": 92,
   "metadata": {},
   "outputs": [
    {
     "data": {
      "text/plain": [
       "46455101874045784090816314737552982315724020408958029746002584700961383994513064039302147371562213041406512404431456062563010981263261223178829219168731802957512472217387342779964208706882025215330054278468107651153755844596184353960319022362126445535057182554440636941620621008841503982348875316194726445900"
      ]
     },
     "execution_count": 92,
     "metadata": {},
     "output_type": "execute_result"
    }
   ],
   "source": [
    "sigma = rsaSignGen(m,n,d)\n",
    "sigma"
   ]
  },
  {
   "cell_type": "code",
   "execution_count": 91,
   "metadata": {},
   "outputs": [],
   "source": [
    "def  rsaSignVerify(m, sigma, n, e):\n",
    "    mhash = shake128(m, 127)\n",
    "    return mhash == mod_binary(sigma,e,n)"
   ]
  },
  {
   "cell_type": "code",
   "execution_count": 93,
   "metadata": {},
   "outputs": [
    {
     "data": {
      "text/plain": [
       "True"
      ]
     },
     "execution_count": 93,
     "metadata": {},
     "output_type": "execute_result"
    }
   ],
   "source": [
    " rsaSignVerify(m, sigma, n, e)"
   ]
  },
  {
   "cell_type": "code",
   "execution_count": 101,
   "metadata": {},
   "outputs": [
    {
     "data": {
      "text/plain": [
       "[0.010976374998790561,\n",
       " 0.010017708000304992,\n",
       " 0.00533233300120628,\n",
       " 0.0053571660009765765,\n",
       " 0.007964041999002802,\n",
       " 0.006333999999696971,\n",
       " 0.009108624999498716,\n",
       " 0.006772750000891392,\n",
       " 0.007504458000767045,\n",
       " 0.00687879100041755]"
      ]
     },
     "execution_count": 101,
     "metadata": {},
     "output_type": "execute_result"
    }
   ],
   "source": [
    "import time\n",
    "process_times = []\n",
    "for i in range(1000):\n",
    "    start = time.perf_counter()\n",
    "    rsaSignGen(m, n, d)\n",
    "    end = time.perf_counter()\n",
    "    process_times.append(end-start)\n",
    "process_times[0:10]"
   ]
  },
  {
   "cell_type": "code",
   "execution_count": 102,
   "metadata": {},
   "outputs": [
    {
     "name": "stdout",
     "output_type": "stream",
     "text": [
      "5.0186282910181035 0.11315844375794387\n"
     ]
    }
   ],
   "source": [
    "import numpy as np\n",
    "\n",
    "def mv(T):\n",
    "    return np.mean(T), np.var(T)\n",
    "\n",
    "res = mv(process_times)\n",
    "print (res[0]*1000, res[1]*1e6)"
   ]
  },
  {
   "cell_type": "code",
   "execution_count": null,
   "metadata": {},
   "outputs": [],
   "source": []
  }
 ],
 "metadata": {
  "kernelspec": {
   "display_name": "Python 3",
   "language": "python",
   "name": "python3"
  },
  "language_info": {
   "codemirror_mode": {
    "name": "ipython",
    "version": 3
   },
   "file_extension": ".py",
   "mimetype": "text/x-python",
   "name": "python",
   "nbconvert_exporter": "python",
   "pygments_lexer": "ipython3",
   "version": "3.8.5"
  }
 },
 "nbformat": 4,
 "nbformat_minor": 4
}
