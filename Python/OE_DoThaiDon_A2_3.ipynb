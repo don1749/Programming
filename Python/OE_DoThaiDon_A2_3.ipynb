{
 "cells": [
  {
   "cell_type": "code",
   "execution_count": 41,
   "metadata": {},
   "outputs": [],
   "source": [
    "def mod_binary(g,k,n):\n",
    "    # out: g^k mod n\n",
    "    bk = bin(k)[2:]\n",
    "    y = 1\n",
    "    for i in bk:\n",
    "        y = y * y % n\n",
    "        if i == '1':\n",
    "            y = y * g % n\n",
    "    return y"
   ]
  },
  {
   "cell_type": "code",
   "execution_count": 68,
   "metadata": {},
   "outputs": [],
   "source": [
    "import sympy\n",
    "def inv(n, a):\n",
    "    # return a^-1\n",
    "    return int(sympy.invert(a, n)) "
   ]
  },
  {
   "cell_type": "code",
   "execution_count": 69,
   "metadata": {},
   "outputs": [],
   "source": [
    "def ex_euclid(a, b):\n",
    "    x0, x1 = 1, 0\n",
    "    y0, y1 = 0, 1\n",
    "    while b!=0:\n",
    "        q, r = divmod(a, b) # r = a0 % a1, q = (a0 – r)//a1 でも可\n",
    "        x0, x1 = x1, x0 - q * x1\n",
    "        y0, y1 = y1, y0 - q * y1\n",
    "        a, b = b, r\n",
    "    return [a, x0, y0]"
   ]
  },
  {
   "cell_type": "code",
   "execution_count": 127,
   "metadata": {},
   "outputs": [],
   "source": [
    "def common_mod_attack(e1,e2, n, c1, c2):\n",
    "    ex_euclid_ret = ex_euclid(e1, e2)\n",
    "    gcd, a, b = ex_euclid_ret[0], ex_euclid_ret[1], ex_euclid_ret[2]\n",
    "    print(gcd, a,b)\n",
    "    if a < 0:\n",
    "        i = inv(n, c1)\n",
    "        mx = mod_binary(i, -a, n)\n",
    "        my = mod_binary(c2, b, n)\n",
    "    else:\n",
    "        i = inv(n, c2)\n",
    "        mx = mod_binary(c1, a, n)\n",
    "        my = mod_binary(i, -b, n)\n",
    "    return mod_binary(mx*my, 1, n)"
   ]
  },
  {
   "cell_type": "code",
   "execution_count": 128,
   "metadata": {},
   "outputs": [],
   "source": [
    "C1=50257628186841946022744743639556072445797615612431606941711854177671458370611064143404865392689462420133425281604759758898425306226170134549221250253220070431204368662270914532144180792358228553576200488126066876856616036241303235300922603549942068076641346108806442632762382292877718501016282432515127417949\n",
    "C2=115870729276547586100790621990585092388432886948198758418452055567152196111599860714154493285123211533502961469101571653485618588083828957179608776225135414877457840038659991564339024558687394498346303682373233367132449651862321750838840689347118499374888579761677651619571303928496183017774390146211061621583\n",
    "\n",
    "n1=122834028293712296720762660347542146164652093481670201947376324993009557691933003435610085976898758687338316692229094216953583611028600068975461290111594197522486713161058298860890998555271590454234774552183738893956388244959334034615659391123981756945729584040032409298308902656405787758214276110040436127519\n",
    "e1_1=576545171\n",
    "d1_1=32401192536282284985293764068015617541088107068689912971046291803608281162104458551688806288958064348844691177528335638653613116641193673091528754858391486447179012634626996326273041718091639197392417588612717700648501308653623794225874395803030857098539375261982836116370926858180336861819322091831749480363\n",
    "e1_2=4170652133\n",
    "d1_2=44008775480361668477677340791484339385758776325274416251927343006663219106026995188754371645902629966377504884367071739914303384014636764437766629496131114523130465800850727148601314407476616710751735260517654791872522588693284457755878395386732105074595941943546485196632817476717970541520579254122447719913"
   ]
  },
  {
   "cell_type": "code",
   "execution_count": 130,
   "metadata": {},
   "outputs": [
    {
     "name": "stdout",
     "output_type": "stream",
     "text": [
      "1 1724169462 -238346797\n"
     ]
    },
    {
     "data": {
      "text/plain": [
       "20120615"
      ]
     },
     "execution_count": 130,
     "metadata": {},
     "output_type": "execute_result"
    }
   ],
   "source": [
    "common_mod_attack(e1_1,e1_2, n1, C1, C2)"
   ]
  },
  {
   "cell_type": "code",
   "execution_count": null,
   "metadata": {},
   "outputs": [],
   "source": []
  }
 ],
 "metadata": {
  "kernelspec": {
   "display_name": "Python 3",
   "language": "python",
   "name": "python3"
  },
  "language_info": {
   "codemirror_mode": {
    "name": "ipython",
    "version": 3
   },
   "file_extension": ".py",
   "mimetype": "text/x-python",
   "name": "python",
   "nbconvert_exporter": "python",
   "pygments_lexer": "ipython3",
   "version": "3.8.5"
  }
 },
 "nbformat": 4,
 "nbformat_minor": 4
}
