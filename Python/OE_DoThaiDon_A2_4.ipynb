{
 "cells": [
  {
   "cell_type": "code",
   "execution_count": 4,
   "metadata": {},
   "outputs": [],
   "source": [
    "def mod_binary(g,k,n):\n",
    "    # out: g^k mod n\n",
    "    bk = bin(k)[2:]\n",
    "    y = 1\n",
    "    for i in bk:\n",
    "        y = y * y % n\n",
    "        if i == '1':\n",
    "            y = y * g % n\n",
    "    return y"
   ]
  },
  {
   "cell_type": "code",
   "execution_count": 40,
   "metadata": {},
   "outputs": [],
   "source": [
    "import sympy\n",
    "def inv(n, a):\n",
    "    # return a^-1\n",
    "    return sympy.invert(a, n) "
   ]
  },
  {
   "cell_type": "code",
   "execution_count": 41,
   "metadata": {},
   "outputs": [],
   "source": [
    "def rsaEnc(m, n, e):\n",
    "    return mod_binary(m, e, n)"
   ]
  },
  {
   "cell_type": "code",
   "execution_count": 7,
   "metadata": {},
   "outputs": [],
   "source": [
    "n=101120238836005269809773416981882641266011205065504744716304420651224630140594291762148518493854239011880064057427658763683069244958109350152226679734726981532071377495257561523404449361194579124404455933093256937645064896786745363916150910048949973279743871403067725803396280564233743617093851921899467143641\n",
    "e=2147483649\n",
    "C=32895882594000591593742797771500149218003022550037079603315093491447486158015262263141363034156680610271069043198422693708877809022939649632404113517463590100479550135721182799758485945378174083159415425688127829993219211900937547432976167601915191890894997138701599385762943753524662463006179528342436295291"
   ]
  },
  {
   "cell_type": "code",
   "execution_count": 8,
   "metadata": {
    "scrolled": true
   },
   "outputs": [
    {
     "data": {
      "text/plain": [
       "87772379435118872172094915679084308666378647015596685646890820058657186995390746819512999944157123015845467293151804018895729451596637767768492485989616901337995022719094953661544279792461146539035952004436484534937343340303224106944566401747155832522929994599537177765042638821774831870525156028101313811316"
      ]
     },
     "execution_count": 8,
     "metadata": {},
     "output_type": "execute_result"
    }
   ],
   "source": [
    "C_ = mod_binary((2**e)*C, 1, n)\n",
    "C_"
   ]
  },
  {
   "cell_type": "code",
   "execution_count": 31,
   "metadata": {},
   "outputs": [],
   "source": [
    "m_ = 10614730692396106790549630584413669656592552220609004550182643874375514018151121660985742035458294196650407779242756400930199984394838418110110498574601163697581548510083632304160646959142376695620927364193837976989528860792355937064481549452811825618017716599933987955010601213318523614146125388554709821233"
   ]
  },
  {
   "cell_type": "code",
   "execution_count": 45,
   "metadata": {
    "scrolled": false
   },
   "outputs": [],
   "source": [
    "m = mod_binary(m_*inv(n, 2), 1, n)"
   ]
  },
  {
   "cell_type": "code",
   "execution_count": 46,
   "metadata": {},
   "outputs": [
    {
     "data": {
      "text/plain": [
       "55867484764200688300161523783148155461301878643056874633243532262800072079372706711567130264656266604265235918335207582306634614676473884131168589154664072614826463002670596913782548160168477910012691648643547457317296878789550650490316229750880899448880794001500856879203440888776133615619988655227088482437"
      ]
     },
     "execution_count": 46,
     "metadata": {},
     "output_type": "execute_result"
    }
   ],
   "source": [
    "int(m)"
   ]
  },
  {
   "cell_type": "code",
   "execution_count": null,
   "metadata": {},
   "outputs": [],
   "source": []
  }
 ],
 "metadata": {
  "kernelspec": {
   "display_name": "Python 3",
   "language": "python",
   "name": "python3"
  },
  "language_info": {
   "codemirror_mode": {
    "name": "ipython",
    "version": 3
   },
   "file_extension": ".py",
   "mimetype": "text/x-python",
   "name": "python",
   "nbconvert_exporter": "python",
   "pygments_lexer": "ipython3",
   "version": "3.8.5"
  }
 },
 "nbformat": 4,
 "nbformat_minor": 4
}
