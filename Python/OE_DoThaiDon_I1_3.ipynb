{
 "cells": [
  {
   "cell_type": "code",
   "execution_count": 17,
   "metadata": {},
   "outputs": [],
   "source": [
    "def solve(k, g, p):\n",
    "    y=1\n",
    "    bin_k = bin(k)[2:]\n",
    "    for i in bin_k:\n",
    "        y = y*y %p\n",
    "        if i == '1':\n",
    "            y = y*g%p\n",
    "    return y"
   ]
  },
  {
   "cell_type": "code",
   "execution_count": 18,
   "metadata": {},
   "outputs": [],
   "source": [
    "p4 = 730750818665451459523961714499640833062084344321\n",
    "g4 = 2\n",
    "g5 = 630750818665451459523961714499640833062084344321\n",
    "k4 = 172357979665757759723757777799677733762237577327\n",
    "k5= 1011100880101110008000000000110000000011\n",
    "k5 = int(str(k5),16)"
   ]
  },
  {
   "cell_type": "code",
   "execution_count": 19,
   "metadata": {},
   "outputs": [
    {
     "data": {
      "text/plain": [
       "155459841909432863908644635474695551410751546626"
      ]
     },
     "execution_count": 19,
     "metadata": {},
     "output_type": "execute_result"
    }
   ],
   "source": [
    "solve(k4, g4, p4)"
   ]
  },
  {
   "cell_type": "code",
   "execution_count": 20,
   "metadata": {},
   "outputs": [
    {
     "data": {
      "text/plain": [
       "107122186653976887039580918826080915812219030772"
      ]
     },
     "execution_count": 20,
     "metadata": {},
     "output_type": "execute_result"
    }
   ],
   "source": [
    "solve(k5, g4, p4)"
   ]
  },
  {
   "cell_type": "code",
   "execution_count": 22,
   "metadata": {},
   "outputs": [
    {
     "data": {
      "text/plain": [
       "68886132773576300322641392844344772690588238612"
      ]
     },
     "execution_count": 22,
     "metadata": {},
     "output_type": "execute_result"
    }
   ],
   "source": [
    "solve(k4, g5, p4)"
   ]
  },
  {
   "cell_type": "code",
   "execution_count": 23,
   "metadata": {},
   "outputs": [
    {
     "data": {
      "text/plain": [
       "452496840913142221389840406432079223821581095090"
      ]
     },
     "execution_count": 23,
     "metadata": {},
     "output_type": "execute_result"
    }
   ],
   "source": [
    "solve(k5, g5, p4)"
   ]
  },
  {
   "cell_type": "code",
   "execution_count": 24,
   "metadata": {},
   "outputs": [
    {
     "name": "stdout",
     "output_type": "stream",
     "text": [
      "9.206e-05[s]\n"
     ]
    }
   ],
   "source": [
    "import time\n",
    "start = time.perf_counter()\n",
    "for j in range(1000):\n",
    "    solve(k4, g4, p4)\n",
    "end = time.perf_counter()\n",
    "print(str(round((end-start)/1000, 8)) + \"[s]\")"
   ]
  },
  {
   "cell_type": "code",
   "execution_count": 25,
   "metadata": {},
   "outputs": [
    {
     "name": "stdout",
     "output_type": "stream",
     "text": [
      "8.275e-05[s]\n"
     ]
    }
   ],
   "source": [
    "start = time.perf_counter()\n",
    "for j in range(1000):\n",
    "    solve(k5, g4, p4)\n",
    "end = time.perf_counter()\n",
    "print(str(round((end-start)/1000, 8)) + \"[s]\")"
   ]
  },
  {
   "cell_type": "code",
   "execution_count": 26,
   "metadata": {},
   "outputs": [
    {
     "name": "stdout",
     "output_type": "stream",
     "text": [
      "0.00012272[s]\n"
     ]
    }
   ],
   "source": [
    "start = time.perf_counter()\n",
    "for j in range(1000):\n",
    "       solve(k4, g5, p4)\n",
    "end = time.perf_counter()\n",
    "print(str(round((end-start)/1000, 8)) + \"[s]\")"
   ]
  },
  {
   "cell_type": "code",
   "execution_count": 27,
   "metadata": {},
   "outputs": [
    {
     "name": "stdout",
     "output_type": "stream",
     "text": [
      "9.268e-05[s]\n"
     ]
    }
   ],
   "source": [
    "start = time.perf_counter()\n",
    "for j in range(1000):\n",
    "       solve(k5, g5, p4)\n",
    "end = time.perf_counter()\n",
    "print(str(round((end-start)/1000, 8)) + \"[s]\")"
   ]
  },
  {
   "cell_type": "code",
   "execution_count": null,
   "metadata": {},
   "outputs": [],
   "source": []
  }
 ],
 "metadata": {
  "kernelspec": {
   "display_name": "Python 3",
   "language": "python",
   "name": "python3"
  },
  "language_info": {
   "codemirror_mode": {
    "name": "ipython",
    "version": 3
   },
   "file_extension": ".py",
   "mimetype": "text/x-python",
   "name": "python",
   "nbconvert_exporter": "python",
   "pygments_lexer": "ipython3",
   "version": "3.8.5"
  }
 },
 "nbformat": 4,
 "nbformat_minor": 4
}
