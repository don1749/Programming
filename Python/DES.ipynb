{
 "cells": [
  {
   "cell_type": "code",
   "execution_count": 117,
   "metadata": {},
   "outputs": [
    {
     "data": {
      "text/plain": [
       "['01110101',\n",
       " '00111001',\n",
       " '00110101',\n",
       " '00110111',\n",
       " '00110111',\n",
       " '00110001',\n",
       " '00110011',\n",
       " '01100100']"
      ]
     },
     "execution_count": 117,
     "metadata": {},
     "output_type": "execute_result"
    }
   ],
   "source": [
    "inp = \"u957713d\"\n",
    "inp = [int(format(ord(x), 'b'),2) for x in inp]\n",
    "s = [bin(int(el))[2:].zfill(8) for el in inp]\n",
    "#s = (\"\").join(s)\n",
    "# s = (\" \").join(list(s))\n",
    "s"
   ]
  },
  {
   "cell_type": "code",
   "execution_count": 133,
   "metadata": {},
   "outputs": [
    {
     "data": {
      "text/plain": [
       "'01110101001110010011010100110111'"
      ]
     },
     "execution_count": 133,
     "metadata": {},
     "output_type": "execute_result"
    }
   ],
   "source": [
    "s1 = s[:4]\n",
    "s1 = (\"\").join(s1)\n",
    "# (\" \").join(list(s1))\n",
    "s1"
   ]
  },
  {
   "cell_type": "code",
   "execution_count": 134,
   "metadata": {},
   "outputs": [
    {
     "data": {
      "text/plain": [
       "'00110111001100010011001101100100'"
      ]
     },
     "execution_count": 134,
     "metadata": {},
     "output_type": "execute_result"
    }
   ],
   "source": [
    "s2 = s[4:]\n",
    "# print(\" \".join(s2))\n",
    "s2 = (\"\").join(s2)\n",
    "s2"
   ]
  },
  {
   "cell_type": "code",
   "execution_count": 120,
   "metadata": {},
   "outputs": [
    {
     "data": {
      "text/plain": [
       "['101110',\n",
       " '101010',\n",
       " '100111',\n",
       " '110010',\n",
       " '100110',\n",
       " '101010',\n",
       " '100110',\n",
       " '101110']"
      ]
     },
     "execution_count": 120,
     "metadata": {},
     "output_type": "execute_result"
    }
   ],
   "source": [
    "S = []\n",
    "for i in range(8):\n",
    "    S.append(s1[4*i-1] + s1[4*i:4*i+4] + s1[(4*i+4)%32]) \n",
    "# S = \"\".join(S)\n",
    "# \" \".join(list(S))\n",
    "S"
   ]
  },
  {
   "cell_type": "code",
   "execution_count": 121,
   "metadata": {},
   "outputs": [
    {
     "data": {
      "text/plain": [
       "['010001',\n",
       " '010110',\n",
       " '011110',\n",
       " '001001',\n",
       " '101010',\n",
       " '111100',\n",
       " '110111',\n",
       " '101111']"
      ]
     },
     "execution_count": 121,
     "metadata": {},
     "output_type": "execute_result"
    }
   ],
   "source": [
    "key = \"010001 010110 011110 001001 101010 111100 110111 101111\".split(\" \")\n",
    "key"
   ]
  },
  {
   "cell_type": "code",
   "execution_count": 122,
   "metadata": {},
   "outputs": [
    {
     "data": {
      "text/plain": [
       "['111111',\n",
       " '111100',\n",
       " '111001',\n",
       " '111011',\n",
       " '001100',\n",
       " '010110',\n",
       " '010001',\n",
       " '000001']"
      ]
     },
     "execution_count": 122,
     "metadata": {},
     "output_type": "execute_result"
    }
   ],
   "source": [
    "Sxor = []\n",
    "for i in range(8):\n",
    "    x = [str(int(S[i][j]) ^ int(key[i][j])) for j in range(6)]\n",
    "    x = \"\".join(x)\n",
    "    Sxor.append(x)\n",
    "Sxor"
   ]
  },
  {
   "cell_type": "code",
   "execution_count": 123,
   "metadata": {},
   "outputs": [
    {
     "data": {
      "text/plain": [
       "[[13, 2, 8, 4, 6, 15, 11, 1, 10, 9, 3, 14, 5, 0, 12, 7],\n",
       " [1, 15, 13, 8, 10, 3, 7, 4, 12, 5, 6, 11, 0, 14, 9, 2],\n",
       " [7, 11, 4, 1, 9, 12, 14, 2, 0, 6, 10, 13, 15, 3, 5, 8],\n",
       " [2, 1, 14, 7, 4, 10, 8, 13, 15, 12, 9, 0, 3, 5, 6, 11]]"
      ]
     },
     "execution_count": 123,
     "metadata": {},
     "output_type": "execute_result"
    }
   ],
   "source": [
    "Sbox = [\n",
    "        #S1\n",
    "        [\n",
    "            [14, 4, 13, 1, 2, 15, 11, 8, 3, 10, 6, 12, 5, 9, 0, 7],\n",
    "            [0, 15, 7, 4, 14, 2, 13, 1, 10, 6, 12, 11, 9, 5, 3, 8],\n",
    "            [4, 1, 14, 8, 13, 6, 2, 11, 15, 12, 9, 7, 3, 10, 5, 0],\n",
    "            [15, 12, 8, 2, 4, 9, 1, 7, 5, 11, 3, 14, 10, 0, 6, 13]\n",
    "        ],\n",
    "\n",
    "        #S2\n",
    "        [\n",
    "            [15, 1, 8, 14, 6, 11, 3, 4, 9, 7, 2, 13, 12, 0, 5, 10],\n",
    "            [3, 13, 4, 7, 15, 2, 8, 14, 12, 0, 1, 10, 6, 9, 11, 5],\n",
    "            [0, 14, 7, 11, 10, 4, 13, 1, 5, 8, 12, 6, 9, 3, 2, 15],\n",
    "            [13, 8, 10, 1, 3, 15, 4, 2, 11, 6, 7, 12, 0, 5, 14, 9],\n",
    "        ],\n",
    "\n",
    "        #S3\n",
    "        [\n",
    "            [10, 0, 9, 14, 6, 3, 15, 5, 1, 13, 12, 7, 11, 4, 2, 8],\n",
    "            [13, 7, 0, 9, 3, 4, 6, 10, 2, 8, 5, 14, 12, 11, 15, 1],\n",
    "            [13, 6, 4, 9, 8, 15, 3, 0, 11, 1, 2, 12, 5, 10, 14, 7],\n",
    "            [1, 10, 13, 0, 6, 9, 8, 7, 4, 15, 14, 3, 11, 5, 2, 12],\n",
    "        ],\n",
    "\n",
    "        #S4\n",
    "        [\n",
    "            [7, 13, 14, 3, 0, 6, 9, 10, 1, 2, 8, 5, 11, 12, 4, 15],\n",
    "            [13, 8, 11, 5, 6, 15, 0, 3, 4, 7, 2, 12, 1, 10, 14, 9],\n",
    "            [10, 6, 9, 0, 12, 11, 7, 13, 15, 1, 3, 14, 5, 2, 8, 4],\n",
    "            [3, 15, 0, 6, 10, 1, 13, 8, 9, 4, 5, 11, 12, 7, 2, 14],\n",
    "        ],\n",
    "\n",
    "        #S5\n",
    "        [\n",
    "            [2, 12, 4, 1, 7, 10, 11, 6, 8, 5, 3, 15, 13, 0, 14, 9],\n",
    "            [14, 11, 2, 12, 4, 7, 13, 1, 5, 0, 15, 10, 3, 9, 8, 6],\n",
    "            [4, 2, 1, 11, 10, 13, 7, 8, 15, 9, 12, 5, 6, 3, 0, 14],\n",
    "            [11, 8, 12, 7, 1, 14, 2, 13, 6, 15, 0, 9, 10, 4, 5, 3],\n",
    "        ],\n",
    "\n",
    "        #S6\n",
    "        [\n",
    "            [12, 1, 10, 15, 9, 2, 6, 8, 0, 13, 3, 4, 14, 7, 5, 11],\n",
    "            [10, 15, 4, 2, 7, 12, 9, 5, 6, 1, 13, 14, 0, 11, 3, 8],\n",
    "            [9, 14, 15, 5, 2, 8, 12, 3, 7, 0, 4, 10, 1, 13, 11, 6],\n",
    "            [4, 3, 2, 12, 9, 5, 15, 10, 11, 14, 1, 7, 6, 0, 8, 13],\n",
    "        ],\n",
    "\n",
    "        #S7\n",
    "        [\n",
    "            [4, 11, 2, 14, 15, 0, 8, 13, 3, 12, 9, 7, 5, 10, 6, 1],\n",
    "            [13, 0, 11, 7, 4, 9, 1, 10, 14, 3, 5, 12, 2, 15, 8, 6],\n",
    "            [1, 4, 11, 13, 12, 3, 7, 14, 10, 15, 6, 8, 0, 5, 9, 2],\n",
    "            [6, 11, 13, 8, 1, 4, 10, 7, 9, 5, 0, 15, 14, 2, 3, 12],\n",
    "        ],\n",
    "\n",
    "        #S8\n",
    "        [\n",
    "            [13, 2, 8, 4, 6, 15, 11, 1, 10, 9, 3, 14, 5, 0, 12, 7],\n",
    "            [1, 15, 13, 8, 10, 3, 7, 4, 12, 5, 6, 11, 0, 14, 9, 2],\n",
    "            [7, 11, 4, 1, 9, 12, 14, 2, 0, 6, 10, 13, 15, 3, 5, 8],\n",
    "            [2, 1, 14, 7, 4, 10, 8, 13, 15, 12, 9, 0, 3, 5, 6, 11],\n",
    "        ]\n",
    "    ]\n",
    "Sbox[-1]"
   ]
  },
  {
   "cell_type": "code",
   "execution_count": 124,
   "metadata": {},
   "outputs": [
    {
     "name": "stdout",
     "output_type": "stream",
     "text": [
      "3 15\n",
      "13\n",
      "2 14\n",
      "2\n",
      "3 12\n",
      "11\n",
      "3 13\n",
      "7\n",
      "0 6\n",
      "11\n",
      "0 11\n",
      "4\n",
      "1 8\n",
      "14\n",
      "1 0\n",
      "1\n",
      "['1101', '0010', '1011', '0111', '1011', '0100', '1110', '0001']\n",
      "11010010101101111011010011100001\n"
     ]
    },
    {
     "data": {
      "text/plain": [
       "'1 1 0 1 0 0 1 0 1 0 1 1 0 1 1 1 1 0 1 1 0 1 0 0 1 1 1 0 0 0 0 1'"
      ]
     },
     "execution_count": 124,
     "metadata": {},
     "output_type": "execute_result"
    }
   ],
   "source": [
    "Sout = []\n",
    "for i in range(8):\n",
    "    x = int(Sxor[i][0] + Sxor[i][-1], 2)\n",
    "    y = int(Sxor[i][1:5],2)\n",
    "    print(x,y)\n",
    "    print(Sbox[i][x][y])\n",
    "    Sout.append(bin(Sbox[i][x][y])[2:].zfill(4))\n",
    "print(Sout)\n",
    "Sout=\"\".join(Sout)\n",
    "print(Sout)\n",
    "\" \".join(list(Sout))"
   ]
  },
  {
   "cell_type": "code",
   "execution_count": 125,
   "metadata": {},
   "outputs": [],
   "source": [
    "P = [\n",
    "        16, 7, 20, 21,\n",
    "        29, 12, 28, 17,\n",
    "        1, 15, 23, 26,\n",
    "        5, 18, 31, 10,\n",
    "        2, 8, 24, 14,\n",
    "        32, 27, 3, 9,\n",
    "        19, 13, 30, 6,\n",
    "        22, 11, 4, 25,\n",
    "    ]"
   ]
  },
  {
   "cell_type": "code",
   "execution_count": 126,
   "metadata": {},
   "outputs": [
    {
     "name": "stdout",
     "output_type": "stream",
     "text": [
      "11100101110100001001110110001111\n"
     ]
    },
    {
     "data": {
      "text/plain": [
       "'1 1 1 0 0 1 0 1 1 1 0 1 0 0 0 0 1 0 0 1 1 1 0 1 1 0 0 0 1 1 1 1'"
      ]
     },
     "execution_count": 126,
     "metadata": {},
     "output_type": "execute_result"
    }
   ],
   "source": [
    "Fout = \"\"\n",
    "for x in P:\n",
    "    Fout = Fout + Sout[x-1]\n",
    "print(Fout)\n",
    "\" \".join(list(Fout))"
   ]
  },
  {
   "cell_type": "code",
   "execution_count": 127,
   "metadata": {},
   "outputs": [
    {
     "data": {
      "text/plain": [
       "['11010010', '11100001', '10101110', '11101011']"
      ]
     },
     "execution_count": 127,
     "metadata": {},
     "output_type": "execute_result"
    }
   ],
   "source": [
    "res = [str(int(Fout[i]) ^ int(s2[i])) for i in range(32)]\n",
    "res = [\"\".join(res[8*i:8*i+8]) for i in range(4)]\n",
    "res"
   ]
  },
  {
   "cell_type": "code",
   "execution_count": 131,
   "metadata": {},
   "outputs": [
    {
     "data": {
      "text/plain": [
       "['d2', 'e1', 'ae', 'eb']"
      ]
     },
     "execution_count": 131,
     "metadata": {},
     "output_type": "execute_result"
    }
   ],
   "source": [
    "res_hex = [hex(int(r,2))[2:] for r in res]\n",
    "res_hex"
   ]
  },
  {
   "cell_type": "code",
   "execution_count": null,
   "metadata": {},
   "outputs": [],
   "source": []
  }
 ],
 "metadata": {
  "kernelspec": {
   "display_name": "Python 3",
   "language": "python",
   "name": "python3"
  },
  "language_info": {
   "codemirror_mode": {
    "name": "ipython",
    "version": 3
   },
   "file_extension": ".py",
   "mimetype": "text/x-python",
   "name": "python",
   "nbconvert_exporter": "python",
   "pygments_lexer": "ipython3",
   "version": "3.8.5"
  }
 },
 "nbformat": 4,
 "nbformat_minor": 4
}
