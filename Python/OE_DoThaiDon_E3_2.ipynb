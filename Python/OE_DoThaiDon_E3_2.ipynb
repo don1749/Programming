{
 "cells": [
  {
   "cell_type": "code",
   "execution_count": 3,
   "metadata": {},
   "outputs": [],
   "source": [
    "def ex_euclid(a,b):\n",
    "    x0, x1 = 1, 0\n",
    "    y0, y1 = 0, 1\n",
    "    while b!=0:\n",
    "        q, r = divmod(a, b) # r = a0 % a1, q = (a0 – r)//a1 でも可\n",
    "        x0, x1 = x1, x0 - q * x1\n",
    "        y0, y1 = y1, y0 - q * y1\n",
    "        a, b = b, r\n",
    "    return [a, x0, y0]"
   ]
  },
  {
   "cell_type": "code",
   "execution_count": 4,
   "metadata": {},
   "outputs": [],
   "source": [
    "def mod_binary(g,k,n):\n",
    "    # out: g^k mod n\n",
    "    bk = bin(k)[2:]\n",
    "    y = 1\n",
    "    for i in bk:\n",
    "        y = y * y % n\n",
    "        if i == '1':\n",
    "            y = y * g % n\n",
    "    return y"
   ]
  },
  {
   "cell_type": "code",
   "execution_count": 5,
   "metadata": {},
   "outputs": [],
   "source": [
    "def gcd(a,b):\n",
    "    return ex_euclid(a,b)[0]"
   ]
  },
  {
   "cell_type": "code",
   "execution_count": 6,
   "metadata": {},
   "outputs": [],
   "source": [
    "def lcm(a,b):\n",
    "    return int(a*b/gcd(a,b))"
   ]
  },
  {
   "cell_type": "code",
   "execution_count": 7,
   "metadata": {},
   "outputs": [],
   "source": [
    "def inv(a,n):\n",
    "    return ex_euclid(a,n)[1] % n"
   ]
  },
  {
   "cell_type": "code",
   "execution_count": 8,
   "metadata": {},
   "outputs": [],
   "source": [
    "def rsaSignGenKey(p, q, e):\n",
    "    n  = p*q\n",
    "    lambda_n = lcm(p-1, q-1)\n",
    "    if gcd(e,lambda_n) != 1:\n",
    "        return 0\n",
    "    d = inv(e, lambda_n)\n",
    "    return(n, e, d)"
   ]
  },
  {
   "cell_type": "code",
   "execution_count": 9,
   "metadata": {},
   "outputs": [],
   "source": [
    "import hashlib\n",
    "import binascii\n",
    "def shake128(m, h_size):\n",
    "    mhash = hashlib.shake_128(m.encode()).hexdigest(h_size)\n",
    "    return int(mhash, 16)"
   ]
  },
  {
   "cell_type": "code",
   "execution_count": 59,
   "metadata": {},
   "outputs": [
    {
     "data": {
      "text/plain": [
       "256"
      ]
     },
     "execution_count": 59,
     "metadata": {},
     "output_type": "execute_result"
    }
   ],
   "source": [
    "m = \"私はサイモン・シンの「暗号解読」の本が好きで、RSAの演習で非常に楽しいと感じました\"\n",
    "n = 132639128328156874302341968448627869114681769925253308356386508014896474072062362479952607784543134302534592007855554898302262711335875317907787788175302032187091773786443929734402942858254023783150409433342703442152907413461389601036781602744581302475935905417201036386878337159526581802689674768037898370557\n",
    "e = 1009483867"
   ]
  },
  {
   "cell_type": "code",
   "execution_count": 56,
   "metadata": {},
   "outputs": [
    {
     "data": {
      "text/plain": [
       "37549337890029230658809638615972162136310897930934502970348791899520709895581373974261458393447991293975227436561923941994612193647716393645906380076245468029894559213260920260774815677212877545883149300737938553368974221241670503035940401551002093375189680679030521989741073365813723170368660367120701383375510075550956405535113309462357725758422135796750889204847202656004307989803737138997619340331105049451398913889560203061290584551152016747411714421535727506336517329672121412518730828613333930028511422869443739784339522451250937674888727768042101952460143400685780679014"
      ]
     },
     "execution_count": 56,
     "metadata": {},
     "output_type": "execute_result"
    }
   ],
   "source": [
    "import binascii\n",
    "\n",
    "m_bytes = binascii.hexlify(m.encode())\n",
    "m_int = int.from_bytes(m_bytes, \"big\")\n",
    "m_int"
   ]
  },
  {
   "cell_type": "code",
   "execution_count": 53,
   "metadata": {},
   "outputs": [],
   "source": [
    "def rsaEnc(m, n, e):\n",
    "    return mod_binary(m, e, n)"
   ]
  },
  {
   "cell_type": "code",
   "execution_count": 54,
   "metadata": {},
   "outputs": [
    {
     "data": {
      "text/plain": [
       "65082753259677614840302317440102255033606812498334575278965996634325118852073894642910083643506412342896151247738462299807150252022983185188035617817136214839479014114624638301090892013180041728629551538457302786877865860870923229844268868526818857735561390997192946229795694765539119238816634935404597222417"
      ]
     },
     "execution_count": 54,
     "metadata": {},
     "output_type": "execute_result"
    }
   ],
   "source": [
    "rsaEnc(m_int, n, e)"
   ]
  },
  {
   "cell_type": "code",
   "execution_count": 77,
   "metadata": {},
   "outputs": [],
   "source": [
    "def rsaSignGen(m, n, d):\n",
    "    mhash = shake128(m, 127)\n",
    "    return mod_binary(mhash, d, n)"
   ]
  },
  {
   "cell_type": "code",
   "execution_count": 92,
   "metadata": {},
   "outputs": [
    {
     "data": {
      "text/plain": [
       "46455101874045784090816314737552982315724020408958029746002584700961383994513064039302147371562213041406512404431456062563010981263261223178829219168731802957512472217387342779964208706882025215330054278468107651153755844596184353960319022362126445535057182554440636941620621008841503982348875316194726445900"
      ]
     },
     "execution_count": 92,
     "metadata": {},
     "output_type": "execute_result"
    }
   ],
   "source": [
    "sigma = rsaSignGen(m,n,d)\n",
    "sigma"
   ]
  },
  {
   "cell_type": "code",
   "execution_count": 91,
   "metadata": {},
   "outputs": [],
   "source": [
    "def  rsaSignVerify(m, sigma, n, e):\n",
    "    mhash = shake128(m, 127)\n",
    "    return mhash == mod_binary(sigma,e,n)"
   ]
  },
  {
   "cell_type": "code",
   "execution_count": 93,
   "metadata": {},
   "outputs": [
    {
     "data": {
      "text/plain": [
       "True"
      ]
     },
     "execution_count": 93,
     "metadata": {},
     "output_type": "execute_result"
    }
   ],
   "source": [
    " rsaSignVerify(m, sigma, n, e)"
   ]
  },
  {
   "cell_type": "code",
   "execution_count": 101,
   "metadata": {},
   "outputs": [
    {
     "data": {
      "text/plain": [
       "[0.010976374998790561,\n",
       " 0.010017708000304992,\n",
       " 0.00533233300120628,\n",
       " 0.0053571660009765765,\n",
       " 0.007964041999002802,\n",
       " 0.006333999999696971,\n",
       " 0.009108624999498716,\n",
       " 0.006772750000891392,\n",
       " 0.007504458000767045,\n",
       " 0.00687879100041755]"
      ]
     },
     "execution_count": 101,
     "metadata": {},
     "output_type": "execute_result"
    }
   ],
   "source": [
    "import time\n",
    "process_times = []\n",
    "for i in range(1000):\n",
    "    start = time.perf_counter()\n",
    "    rsaSignGen(m, n, d)\n",
    "    end = time.perf_counter()\n",
    "    process_times.append(end-start)\n",
    "process_times[0:10]"
   ]
  },
  {
   "cell_type": "code",
   "execution_count": 102,
   "metadata": {},
   "outputs": [
    {
     "name": "stdout",
     "output_type": "stream",
     "text": [
      "5.0186282910181035 0.11315844375794387\n"
     ]
    }
   ],
   "source": [
    "import numpy as np\n",
    "\n",
    "def mv(T):\n",
    "    return np.mean(T), np.var(T)\n",
    "\n",
    "res = mv(process_times)\n",
    "print (res[0]*1000, res[1]*1e6)"
   ]
  },
  {
   "cell_type": "code",
   "execution_count": null,
   "metadata": {},
   "outputs": [],
   "source": []
  }
 ],
 "metadata": {
  "kernelspec": {
   "display_name": "Python 3",
   "language": "python",
   "name": "python3"
  },
  "language_info": {
   "codemirror_mode": {
    "name": "ipython",
    "version": 3
   },
   "file_extension": ".py",
   "mimetype": "text/x-python",
   "name": "python",
   "nbconvert_exporter": "python",
   "pygments_lexer": "ipython3",
   "version": "3.8.5"
  }
 },
 "nbformat": 4,
 "nbformat_minor": 4
}
